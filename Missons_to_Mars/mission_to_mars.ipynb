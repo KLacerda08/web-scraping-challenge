{
 "cells": [
  {
   "cell_type": "code",
   "execution_count": 1,
   "metadata": {},
   "outputs": [],
   "source": [
    "# Dependencies\n",
    "import os\n",
    "from bs4 import BeautifulSoup as bs\n",
    "import requests\n",
    "import pymongo\n",
    "from splinter import Browser\n",
    "from webdriver_manager.chrome import ChromeDriverManager"
   ]
  },
  {
   "cell_type": "markdown",
   "metadata": {},
   "source": [
    "### NASA Mars News"
   ]
  },
  {
   "cell_type": "code",
   "execution_count": 2,
   "metadata": {
    "scrolled": true
   },
   "outputs": [
    {
     "name": "stderr",
     "output_type": "stream",
     "text": [
      "[WDM] - Current google-chrome version is 87.0.4280\n",
      "[WDM] - Get LATEST driver version for 87.0.4280\n",
      "[WDM] - Driver [C:\\Users\\kaldm\\.wdm\\drivers\\chromedriver\\win32\\87.0.4280.88\\chromedriver.exe] found in cache\n"
     ]
    },
    {
     "name": "stdout",
     "output_type": "stream",
     "text": [
      " \n"
     ]
    }
   ],
   "source": [
    "# Tried using get request, didn't work.  Setup splinter\n",
    "executable_path = {'executable_path': ChromeDriverManager().install()}\n",
    "browser = Browser('chrome', **executable_path, headless=False)"
   ]
  },
  {
   "cell_type": "code",
   "execution_count": 3,
   "metadata": {},
   "outputs": [],
   "source": [
    "# Assign variable for NASA Mars News Site(https://mars.nasa.gov/news/) \n",
    "url = 'https://mars.nasa.gov/news/'\n",
    "browser.visit(url)"
   ]
  },
  {
   "cell_type": "code",
   "execution_count": 5,
   "metadata": {},
   "outputs": [
    {
     "name": "stdout",
     "output_type": "stream",
     "text": [
      "-----------------\n",
      "MOXIE Could Help Future Rockets Launch Off Mars\n",
      "NASA's Perseverance rover carries a device to convert Martian air into oxygen that, if produced on a larger scale, could be used not just for breathing, but also for fuel.\n"
     ]
    }
   ],
   "source": [
    "# Scrape the website for the most recent headline. Note that, for the headline title, this is the second item \n",
    "# on the page, as the first is in the navigation bar (although it does not appear that way upon inspection)\n",
    "# the paragraph is the first on the page \n",
    "\n",
    "# ****  Note, when I restarted and ran the kernel, at first I got an error in this call ***** \n",
    "#     \"list index out of range\".  But then whan I ran this cell separately, it was ok.  \n",
    "\n",
    "html = browser.html\n",
    "soup = bs(html, 'html.parser')\n",
    "title = soup.find_all('div', class_='content_title')[1].text\n",
    "paragraph = soup.find_all('div', class_='article_teaser_body')[0].text\n",
    "   \n",
    "# print article info\n",
    "print('-----------------')\n",
    "print(title)\n",
    "print(paragraph)"
   ]
  },
  {
   "cell_type": "code",
   "execution_count": null,
   "metadata": {},
   "outputs": [],
   "source": [
    "browser.quit()"
   ]
  },
  {
   "cell_type": "markdown",
   "metadata": {},
   "source": [
    "### JPL Mars Space Images - Featured Image"
   ]
  },
  {
   "cell_type": "code",
   "execution_count": null,
   "metadata": {},
   "outputs": [],
   "source": [
    "# Setup splinter\n",
    "executable_path = {'executable_path': ChromeDriverManager().install()}\n",
    "browser = Browser('chrome', **executable_path, headless=False)"
   ]
  },
  {
   "cell_type": "code",
   "execution_count": null,
   "metadata": {},
   "outputs": [],
   "source": [
    "# url for JPL Featured Space Image [here](https://www.jpl.nasa.gov/spaceimages/?search=&category=Mars)\n",
    "url = 'https://www.jpl.nasa.gov/spaceimages/?search=&category=Mars'\n",
    "browser.visit(url)"
   ]
  },
  {
   "cell_type": "code",
   "execution_count": null,
   "metadata": {},
   "outputs": [],
   "source": [
    "#find the large-size images - it is 2 clicks away. First click\n",
    "html = browser.html\n",
    "soup = bs(html, 'html.parser')\n",
    "image = soup.find(id = \"full_image\")[\"data-link\"]\n",
    "feature_image_url = \"https://www.jpl.nasa.gov\" + image\n",
    "print(feature_image_url)"
   ]
  },
  {
   "cell_type": "code",
   "execution_count": null,
   "metadata": {},
   "outputs": [],
   "source": [
    "browser.quit()"
   ]
  },
  {
   "cell_type": "markdown",
   "metadata": {},
   "source": [
    "### Mars Facts"
   ]
  },
  {
   "cell_type": "code",
   "execution_count": null,
   "metadata": {},
   "outputs": [],
   "source": []
  },
  {
   "cell_type": "code",
   "execution_count": null,
   "metadata": {},
   "outputs": [],
   "source": []
  },
  {
   "cell_type": "code",
   "execution_count": null,
   "metadata": {},
   "outputs": [],
   "source": []
  },
  {
   "cell_type": "code",
   "execution_count": null,
   "metadata": {},
   "outputs": [],
   "source": []
  },
  {
   "cell_type": "code",
   "execution_count": null,
   "metadata": {},
   "outputs": [],
   "source": []
  },
  {
   "cell_type": "code",
   "execution_count": null,
   "metadata": {},
   "outputs": [],
   "source": []
  },
  {
   "cell_type": "markdown",
   "metadata": {},
   "source": [
    "### Mars Hemispheres"
   ]
  },
  {
   "cell_type": "code",
   "execution_count": null,
   "metadata": {},
   "outputs": [],
   "source": [
    "\n"
   ]
  },
  {
   "cell_type": "code",
   "execution_count": null,
   "metadata": {},
   "outputs": [],
   "source": []
  },
  {
   "cell_type": "code",
   "execution_count": null,
   "metadata": {
    "scrolled": true
   },
   "outputs": [],
   "source": []
  },
  {
   "cell_type": "code",
   "execution_count": null,
   "metadata": {},
   "outputs": [],
   "source": []
  },
  {
   "cell_type": "code",
   "execution_count": null,
   "metadata": {},
   "outputs": [],
   "source": []
  },
  {
   "cell_type": "code",
   "execution_count": null,
   "metadata": {
    "scrolled": true
   },
   "outputs": [],
   "source": []
  },
  {
   "cell_type": "code",
   "execution_count": null,
   "metadata": {},
   "outputs": [],
   "source": [
    "\n"
   ]
  },
  {
   "cell_type": "code",
   "execution_count": null,
   "metadata": {},
   "outputs": [],
   "source": []
  },
  {
   "cell_type": "code",
   "execution_count": null,
   "metadata": {},
   "outputs": [],
   "source": []
  },
  {
   "cell_type": "code",
   "execution_count": null,
   "metadata": {},
   "outputs": [],
   "source": []
  },
  {
   "cell_type": "markdown",
   "metadata": {},
   "source": [
    "# Reference Code Attempts"
   ]
  },
  {
   "cell_type": "code",
   "execution_count": null,
   "metadata": {},
   "outputs": [],
   "source": [
    "# # HTML object\n",
    "# html = browser.html\n",
    "\n",
    "# Create BeautifulSoup object; parse with 'html.parser'\n",
    "# soup = bs(html, 'html.parser')"
   ]
  },
  {
   "cell_type": "code",
   "execution_count": null,
   "metadata": {},
   "outputs": [],
   "source": [
    "## Mongo DB stuff\n",
    "\n",
    "# # Initialize PyMongo to work with MongoDBs\n",
    "# conn = 'mongodb://localhost:27017'\n",
    "# client = pymongo.MongoClient(conn)\n",
    "\n",
    "# # Define database and collection\n",
    "# db = client.nhl_db\n",
    "# collection = db.articles"
   ]
  },
  {
   "cell_type": "code",
   "execution_count": null,
   "metadata": {},
   "outputs": [],
   "source": [
    "#     # Dictionary to be inserted into MongoDB\n",
    "#     post = {\n",
    "#         'title': header,\n",
    "#         'paragraph': subheader,\n",
    "#     }\n",
    "\n",
    "#     # Insert dictionary into MongoDB as a document\n",
    "#     collection.insert_one(post)"
   ]
  },
  {
   "cell_type": "code",
   "execution_count": null,
   "metadata": {},
   "outputs": [],
   "source": [
    " \n",
    "#     button = browser.click_link_by_id(\"full_image\")\n",
    "#     button.click\n",
    "#     button \n",
    "#     browser.links.find_by_partial_text(\"more info\").click()\n",
    "\n",
    "    \n",
    "    \n",
    "    # browser.links.find_by_partial_text(\"Full Image\").click()\n",
    "#     browser.links.find_by_partial_text(\"more info\").click()\n",
    "#     browser.links.find_by_partial_text(\"more info\").click()\n",
    "#     quotes = soup.find_all('span', class_='text')\n",
    "\n",
    "#     for quote in quotes:\n",
    "#         print('page:', x, '-------------')\n",
    "#         print(quote.text)\n",
    "\n",
    "#     browser.links.find_by_partial_text('Full Image').click()"
   ]
  },
  {
   "cell_type": "code",
   "execution_count": null,
   "metadata": {},
   "outputs": [],
   "source": [
    "# Retrieve page with the requests module\n",
    "# response = requests.get(url)\n",
    "\n",
    "# # collect the latest News Title and Paragraph Text. \n",
    "# results = soup.find_all('div', class_='content_title')\n",
    "# results = soup.find_all('div', class_='list_text')\n",
    "# results = soup.find_all('div', class_='bottom_gradient')\n",
    "# results = soup.find_all('h3', class_='list_text')"
   ]
  },
  {
   "cell_type": "code",
   "execution_count": null,
   "metadata": {},
   "outputs": [],
   "source": [
    "# for result in results: \n",
    "#     titles = soup.find_all('div', class_='content_title')\n",
    "# #     paragraph = result.find('div', class_='article_teaser_body').text\n",
    "   \n",
    "#     # print article info\n",
    "#     print('-----------------')\n",
    "#     print(titles)\n",
    "# #     print(paragraph)"
   ]
  },
  {
   "cell_type": "code",
   "execution_count": null,
   "metadata": {},
   "outputs": [],
   "source": [
    "# Print all title texts\n",
    "# titles = soup.find_all('div', class_='content_title')\n",
    "# for title in titles:\n",
    "#     print(title.text)\n",
    "\n",
    "# titles = soup.find_all('h3')\n",
    "# for title in titles:\n",
    "#     print(title)\n",
    "\n",
    "# titles = soup.find_all('h3')\n",
    "# for title in titles:\n",
    "#     print(title.text)"
   ]
  },
  {
   "cell_type": "code",
   "execution_count": null,
   "metadata": {},
   "outputs": [],
   "source": [
    "# # Extract title text\n",
    "# title = soup.title.text\n",
    "# print (title)"
   ]
  },
  {
   "cell_type": "code",
   "execution_count": null,
   "metadata": {},
   "outputs": [],
   "source": [
    "# for result in results: \n",
    "#     title = result.find('div', class_='content_title').text\n",
    "#     paragraph = result.find('div', class_='article_teaser_body').text\n",
    "   \n",
    "#     # print article info\n",
    "#     print('-----------------')\n",
    "#     print(title)\n",
    "#     print(paragraph)\n"
   ]
  },
  {
   "cell_type": "code",
   "execution_count": null,
   "metadata": {},
   "outputs": [],
   "source": [
    "# # loop over results to get article title and paragraph and store in lists for later\n",
    "# titles = []\n",
    "# for result in results:\n",
    "#     if (div.content_title):\n",
    "#         if (div.content_title.text):\n",
    "#             titles.append(div)\n",
    "        \n",
    "#     # scrape the article title \n",
    "# #     title = result.find('div', class_='content_title').text\n",
    "# #     paragraph = result.find('div', class_='article_teaser_body').text\n"
   ]
  }
 ],
 "metadata": {
  "kernelspec": {
   "display_name": "Python 3",
   "language": "python",
   "name": "python3"
  },
  "language_info": {
   "codemirror_mode": {
    "name": "ipython",
    "version": 3
   },
   "file_extension": ".py",
   "mimetype": "text/x-python",
   "name": "python",
   "nbconvert_exporter": "python",
   "pygments_lexer": "ipython3",
   "version": "3.6.10"
  }
 },
 "nbformat": 4,
 "nbformat_minor": 4
}
